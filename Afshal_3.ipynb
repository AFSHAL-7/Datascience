{
  "nbformat": 4,
  "nbformat_minor": 0,
  "metadata": {
    "colab": {
      "provenance": [],
      "include_colab_link": true
    },
    "kernelspec": {
      "name": "python3",
      "display_name": "Python 3"
    },
    "language_info": {
      "name": "python"
    }
  },
  "cells": [
    {
      "cell_type": "markdown",
      "metadata": {
        "id": "view-in-github",
        "colab_type": "text"
      },
      "source": [
        "<a href=\"https://colab.research.google.com/github/AFSHAL-7/Datascience/blob/main/Afshal_3.ipynb\" target=\"_parent\"><img src=\"https://colab.research.google.com/assets/colab-badge.svg\" alt=\"Open In Colab\"/></a>"
      ]
    },
    {
      "cell_type": "code",
      "execution_count": null,
      "metadata": {
        "id": "lVuN2HvYHIij",
        "colab": {
          "base_uri": "https://localhost:8080/"
        },
        "outputId": "901569eb-4c17-473a-e137-44d6864630b8"
      },
      "outputs": [
        {
          "output_type": "stream",
          "name": "stdout",
          "text": [
            "     Customer_ID   Age  Gender  Annual_Income  Spending_Score  \\\n",
            "0              1  56.0    Male        71663.0            96.0   \n",
            "1              2  69.0    Male        35708.0            27.0   \n",
            "2              3  46.0    Male       111906.0            63.0   \n",
            "3              4  32.0    Male        69811.0            96.0   \n",
            "4              5  60.0    Male        22811.0            68.0   \n",
            "..           ...   ...     ...            ...             ...   \n",
            "100           84  32.0  Female        90091.0            62.0   \n",
            "101           54  43.0    Male        52711.0             8.0   \n",
            "102           71   NaN    Male       110272.0            19.0   \n",
            "103           46  26.0  Female        71407.0            85.0   \n",
            "104           45  38.0  Female        35151.0            46.0   \n",
            "\n",
            "     Purchase_Frequency  Last_Transaction_Days Preferred_Category  \n",
            "0                    11                     75            Grocery  \n",
            "1                     5                    217            Grocery  \n",
            "2                     1                    277                NaN  \n",
            "3                     8                    249             Sports  \n",
            "4                    12                    164           Clothing  \n",
            "..                  ...                    ...                ...  \n",
            "100                  13                    321        Electronics  \n",
            "101                  10                     42           Clothing  \n",
            "102                   1                      7             Sports  \n",
            "103                   5                     25           Clothing  \n",
            "104                  14                     99             Beauty  \n",
            "\n",
            "[105 rows x 8 columns]\n"
          ]
        }
      ],
      "source": [
        "import pandas as pd\n",
        "df=pd.read_excel('ecommerce.xlsx')\n",
        "print(df.head(105))\n"
      ]
    },
    {
      "cell_type": "code",
      "source": [
        "print(df.isnull().sum())"
      ],
      "metadata": {
        "colab": {
          "base_uri": "https://localhost:8080/"
        },
        "id": "xMWCcL95LvAo",
        "outputId": "1cbae48b-063f-40c1-a882-84581b3da7ff"
      },
      "execution_count": null,
      "outputs": [
        {
          "output_type": "stream",
          "name": "stdout",
          "text": [
            "Customer_ID              0\n",
            "Age                      6\n",
            "Gender                   0\n",
            "Annual_Income            5\n",
            "Spending_Score           5\n",
            "Purchase_Frequency       0\n",
            "Last_Transaction_Days    0\n",
            "Preferred_Category       5\n",
            "dtype: int64\n"
          ]
        }
      ]
    },
    {
      "cell_type": "code",
      "source": [
        "df_cleaned = df.dropna()\n",
        "print(df_cleaned)"
      ],
      "metadata": {
        "colab": {
          "base_uri": "https://localhost:8080/"
        },
        "id": "qwQHVA_2MCBf",
        "outputId": "f4aabb5a-21bf-4528-fe94-d38a152b8f9a"
      },
      "execution_count": null,
      "outputs": [
        {
          "output_type": "stream",
          "name": "stdout",
          "text": [
            "     Customer_ID   Age  Gender  Annual_Income  Spending_Score  \\\n",
            "0              1  56.0    Male        71663.0            96.0   \n",
            "1              2  69.0    Male        35708.0            27.0   \n",
            "3              4  32.0    Male        69811.0            96.0   \n",
            "4              5  60.0    Male        22811.0            68.0   \n",
            "5              6  25.0    Male        76250.0            60.0   \n",
            "..           ...   ...     ...            ...             ...   \n",
            "99           100  32.0  Female        74045.0            53.0   \n",
            "100           84  32.0  Female        90091.0            62.0   \n",
            "101           54  43.0    Male        52711.0             8.0   \n",
            "103           46  26.0  Female        71407.0            85.0   \n",
            "104           45  38.0  Female        35151.0            46.0   \n",
            "\n",
            "     Purchase_Frequency  Last_Transaction_Days Preferred_Category  \n",
            "0                    11                     75            Grocery  \n",
            "1                     5                    217            Grocery  \n",
            "3                     8                    249             Sports  \n",
            "4                    12                    164           Clothing  \n",
            "5                    12                    357             Beauty  \n",
            "..                  ...                    ...                ...  \n",
            "99                   13                    346        Electronics  \n",
            "100                  13                    321        Electronics  \n",
            "101                  10                     42           Clothing  \n",
            "103                   5                     25           Clothing  \n",
            "104                  14                     99             Beauty  \n",
            "\n",
            "[87 rows x 8 columns]\n"
          ]
        }
      ]
    },
    {
      "cell_type": "code",
      "source": [
        "df.drop_duplicates(inplace=True)\n"
      ],
      "metadata": {
        "id": "UjwfXAp6MKzP"
      },
      "execution_count": null,
      "outputs": []
    },
    {
      "cell_type": "code",
      "source": [
        "from sklearn.preprocessing import StandardScaler, MinMaxScaler, LabelEncoder\n",
        "# Feature Scaling\n",
        "scaler = MinMaxScaler()\n",
        "df_scaled = df.copy()\n",
        "df_scaled[[\"Annual_Income\", \"Spending_Score\"]] = scaler.fit_transform(df[[\"Annual_Income\", \"Spending_Score\"]])\n",
        "print(df_scaled)\n"
      ],
      "metadata": {
        "colab": {
          "base_uri": "https://localhost:8080/"
        },
        "id": "-ojSjIV_MVqG",
        "outputId": "f37bd042-9572-4041-e6c1-27767360d009"
      },
      "execution_count": null,
      "outputs": [
        {
          "output_type": "stream",
          "name": "stdout",
          "text": [
            "    Customer_ID   Age  Gender  Annual_Income  Spending_Score  \\\n",
            "0             1  56.0    Male       0.510244        0.978947   \n",
            "1             2  69.0    Male       0.142305        0.252632   \n",
            "2             3  46.0    Male       0.922063        0.631579   \n",
            "3             4  32.0    Male       0.491291        0.978947   \n",
            "4             5  60.0    Male       0.010325        0.684211   \n",
            "..          ...   ...     ...            ...             ...   \n",
            "95           96  42.0    Male       0.183545        0.505263   \n",
            "96           97  62.0  Female       0.296193        0.400000   \n",
            "97           98  58.0  Female       0.486850        0.694737   \n",
            "98           99  46.0    Male       0.476893        0.115789   \n",
            "99          100  32.0  Female       0.534619        0.526316   \n",
            "\n",
            "    Purchase_Frequency  Last_Transaction_Days Preferred_Category  \n",
            "0                   11                     75            Grocery  \n",
            "1                    5                    217            Grocery  \n",
            "2                    1                    277                NaN  \n",
            "3                    8                    249             Sports  \n",
            "4                   12                    164           Clothing  \n",
            "..                 ...                    ...                ...  \n",
            "95                   9                    182        Electronics  \n",
            "96                   7                    167           Clothing  \n",
            "97                   4                     91        Electronics  \n",
            "98                  18                    202            Grocery  \n",
            "99                  13                    346        Electronics  \n",
            "\n",
            "[100 rows x 8 columns]\n"
          ]
        }
      ]
    },
    {
      "cell_type": "code",
      "source": [
        "df_encoded = pd.get_dummies(df, columns=[\"Gender\"], drop_first=True)\n",
        "print(df_encoded)"
      ],
      "metadata": {
        "colab": {
          "base_uri": "https://localhost:8080/"
        },
        "id": "hzk3tQ7GM57A",
        "outputId": "5a40f6b2-3c79-4124-ff6e-bf6b7525ab71"
      },
      "execution_count": null,
      "outputs": [
        {
          "output_type": "stream",
          "name": "stdout",
          "text": [
            "    Customer_ID   Age  Annual_Income  Spending_Score  Purchase_Frequency  \\\n",
            "0             1  56.0        71663.0            96.0                  11   \n",
            "1             2  69.0        35708.0            27.0                   5   \n",
            "2             3  46.0       111906.0            63.0                   1   \n",
            "3             4  32.0        69811.0            96.0                   8   \n",
            "4             5  60.0        22811.0            68.0                  12   \n",
            "..          ...   ...            ...             ...                 ...   \n",
            "95           96  42.0        39738.0            51.0                   9   \n",
            "96           97  62.0        50746.0            41.0                   7   \n",
            "97           98  58.0        69377.0            69.0                   4   \n",
            "98           99  46.0        68404.0            14.0                  18   \n",
            "99          100  32.0        74045.0            53.0                  13   \n",
            "\n",
            "    Last_Transaction_Days Preferred_Category  Gender_Male  Gender_Other  \n",
            "0                      75            Grocery         True         False  \n",
            "1                     217            Grocery         True         False  \n",
            "2                     277                NaN         True         False  \n",
            "3                     249             Sports         True         False  \n",
            "4                     164           Clothing         True         False  \n",
            "..                    ...                ...          ...           ...  \n",
            "95                    182        Electronics         True         False  \n",
            "96                    167           Clothing        False         False  \n",
            "97                     91        Electronics        False         False  \n",
            "98                    202            Grocery         True         False  \n",
            "99                    346        Electronics        False         False  \n",
            "\n",
            "[100 rows x 9 columns]\n"
          ]
        }
      ]
    },
    {
      "cell_type": "code",
      "source": [
        "encoder = LabelEncoder()\n",
        "df[\"Preferred_Category\"] = encoder.fit_transform(df[\"Preferred_Category\"])\n",
        "print(df)\n"
      ],
      "metadata": {
        "colab": {
          "base_uri": "https://localhost:8080/"
        },
        "id": "NvbESLjAOKKo",
        "outputId": "a1444ba6-0376-475a-f3f1-d678d90d899a"
      },
      "execution_count": null,
      "outputs": [
        {
          "output_type": "stream",
          "name": "stdout",
          "text": [
            "    Customer_ID   Age  Gender  Annual_Income  Spending_Score  \\\n",
            "0             1  56.0    Male        71663.0            96.0   \n",
            "1             2  69.0    Male        35708.0            27.0   \n",
            "2             3  46.0    Male       111906.0            63.0   \n",
            "3             4  32.0    Male        69811.0            96.0   \n",
            "4             5  60.0    Male        22811.0            68.0   \n",
            "..          ...   ...     ...            ...             ...   \n",
            "95           96  42.0    Male        39738.0            51.0   \n",
            "96           97  62.0  Female        50746.0            41.0   \n",
            "97           98  58.0  Female        69377.0            69.0   \n",
            "98           99  46.0    Male        68404.0            14.0   \n",
            "99          100  32.0  Female        74045.0            53.0   \n",
            "\n",
            "    Purchase_Frequency  Last_Transaction_Days  Preferred_Category  \n",
            "0                   11                     75                   3  \n",
            "1                    5                    217                   3  \n",
            "2                    1                    277                   5  \n",
            "3                    8                    249                   4  \n",
            "4                   12                    164                   1  \n",
            "..                 ...                    ...                 ...  \n",
            "95                   9                    182                   2  \n",
            "96                   7                    167                   1  \n",
            "97                   4                     91                   2  \n",
            "98                  18                    202                   3  \n",
            "99                  13                    346                   2  \n",
            "\n",
            "[100 rows x 8 columns]\n"
          ]
        }
      ]
    },
    {
      "cell_type": "code",
      "source": [
        "def performance_category(Spending_Score, Purchase_Frequency):\n",
        "    if Spending_Score >= 85 and Purchase_Frequency >= 10:\n",
        "        return \"High\"\n",
        "    elif Spending_Score >= 70 and Purchase_Frequency >= 8:\n",
        "        return \"Medium\"\n",
        "    else:\n",
        "        return \"Low\"\n",
        "\n",
        "# Apply function correctly using lambda\n",
        "df[\"Customer Loyalty Score\"] = df.apply(lambda row: performance_category(row[\"Spending_Score\"], row[\"Purchase_Frequency\"]), axis=1)\n",
        "\n",
        "# Print DataFrame\n",
        "print(df)"
      ],
      "metadata": {
        "colab": {
          "base_uri": "https://localhost:8080/"
        },
        "id": "SBTZTiXtO5dZ",
        "outputId": "9cfd533c-e094-49b8-9234-09b67a86e2d0"
      },
      "execution_count": null,
      "outputs": [
        {
          "output_type": "stream",
          "name": "stdout",
          "text": [
            "    Customer_ID   Age  Gender  Annual_Income  Spending_Score  \\\n",
            "0             1  56.0    Male        71663.0            96.0   \n",
            "1             2  69.0    Male        35708.0            27.0   \n",
            "2             3  46.0    Male       111906.0            63.0   \n",
            "3             4  32.0    Male        69811.0            96.0   \n",
            "4             5  60.0    Male        22811.0            68.0   \n",
            "..          ...   ...     ...            ...             ...   \n",
            "95           96  42.0    Male        39738.0            51.0   \n",
            "96           97  62.0  Female        50746.0            41.0   \n",
            "97           98  58.0  Female        69377.0            69.0   \n",
            "98           99  46.0    Male        68404.0            14.0   \n",
            "99          100  32.0  Female        74045.0            53.0   \n",
            "\n",
            "    Purchase_Frequency  Last_Transaction_Days  Preferred_Category  \\\n",
            "0                   11                     75                   3   \n",
            "1                    5                    217                   3   \n",
            "2                    1                    277                   5   \n",
            "3                    8                    249                   4   \n",
            "4                   12                    164                   1   \n",
            "..                 ...                    ...                 ...   \n",
            "95                   9                    182                   2   \n",
            "96                   7                    167                   1   \n",
            "97                   4                     91                   2   \n",
            "98                  18                    202                   3   \n",
            "99                  13                    346                   2   \n",
            "\n",
            "   Customer Loyalty Score  \n",
            "0                    High  \n",
            "1                     Low  \n",
            "2                     Low  \n",
            "3                  Medium  \n",
            "4                     Low  \n",
            "..                    ...  \n",
            "95                    Low  \n",
            "96                    Low  \n",
            "97                    Low  \n",
            "98                    Low  \n",
            "99                    Low  \n",
            "\n",
            "[100 rows x 9 columns]\n"
          ]
        }
      ]
    },
    {
      "cell_type": "code",
      "source": [
        "df[\"Income levels\"] = pd.cut(df[\"Annual_Income\"], bins=[20000, 45000, 65000, 120000], labels=[\"Low\", \"Medium\", \"High\"])\n",
        "print(df)"
      ],
      "metadata": {
        "colab": {
          "base_uri": "https://localhost:8080/"
        },
        "id": "ZufWiy6pU3qV",
        "outputId": "4d0bf4e7-1af9-4e93-e8f8-6b6fe5bb9f67"
      },
      "execution_count": null,
      "outputs": [
        {
          "output_type": "stream",
          "name": "stdout",
          "text": [
            "    Customer_ID   Age  Gender  Annual_Income  Spending_Score  \\\n",
            "0             1  56.0    Male        71663.0            96.0   \n",
            "1             2  69.0    Male        35708.0            27.0   \n",
            "2             3  46.0    Male       111906.0            63.0   \n",
            "3             4  32.0    Male        69811.0            96.0   \n",
            "4             5  60.0    Male        22811.0            68.0   \n",
            "..          ...   ...     ...            ...             ...   \n",
            "95           96  42.0    Male        39738.0            51.0   \n",
            "96           97  62.0  Female        50746.0            41.0   \n",
            "97           98  58.0  Female        69377.0            69.0   \n",
            "98           99  46.0    Male        68404.0            14.0   \n",
            "99          100  32.0  Female        74045.0            53.0   \n",
            "\n",
            "    Purchase_Frequency  Last_Transaction_Days  Preferred_Category  \\\n",
            "0                   11                     75                   3   \n",
            "1                    5                    217                   3   \n",
            "2                    1                    277                   5   \n",
            "3                    8                    249                   4   \n",
            "4                   12                    164                   1   \n",
            "..                 ...                    ...                 ...   \n",
            "95                   9                    182                   2   \n",
            "96                   7                    167                   1   \n",
            "97                   4                     91                   2   \n",
            "98                  18                    202                   3   \n",
            "99                  13                    346                   2   \n",
            "\n",
            "   Customer Loyalty Score income levels Income levels  \n",
            "0                    High           NaN          High  \n",
            "1                     Low           NaN           Low  \n",
            "2                     Low           NaN          High  \n",
            "3                  Medium           NaN          High  \n",
            "4                     Low           NaN           Low  \n",
            "..                    ...           ...           ...  \n",
            "95                    Low           NaN           Low  \n",
            "96                    Low           NaN        Medium  \n",
            "97                    Low           NaN          High  \n",
            "98                    Low           NaN          High  \n",
            "99                    Low           NaN          High  \n",
            "\n",
            "[100 rows x 11 columns]\n"
          ]
        }
      ]
    },
    {
      "cell_type": "code",
      "source": [],
      "metadata": {
        "id": "rdDp38KmV5gn"
      },
      "execution_count": null,
      "outputs": []
    }
  ]
}