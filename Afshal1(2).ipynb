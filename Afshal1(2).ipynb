{
  "nbformat": 4,
  "nbformat_minor": 0,
  "metadata": {
    "colab": {
      "provenance": [],
      "authorship_tag": "ABX9TyN+ij2HgwiMHBVeox/Gx9DU",
      "include_colab_link": true
    },
    "kernelspec": {
      "name": "python3",
      "display_name": "Python 3"
    },
    "language_info": {
      "name": "python"
    }
  },
  "cells": [
    {
      "cell_type": "markdown",
      "metadata": {
        "id": "view-in-github",
        "colab_type": "text"
      },
      "source": [
        "<a href=\"https://colab.research.google.com/github/AFSHAL-7/Datascience/blob/main/Afshal1(2).ipynb\" target=\"_parent\"><img src=\"https://colab.research.google.com/assets/colab-badge.svg\" alt=\"Open In Colab\"/></a>"
      ]
    },
    {
      "cell_type": "code",
      "execution_count": 41,
      "metadata": {
        "colab": {
          "base_uri": "https://localhost:8080/"
        },
        "id": "5oKz7DgQGsXX",
        "outputId": "fcb47438-028e-42a0-ed1c-19f16416e6e8"
      },
      "outputs": [
        {
          "output_type": "stream",
          "name": "stdout",
          "text": [
            "    CustomerID  Age ContractType  MonthlyCharges  TotalCalls Churn\n",
            "0         1001   35      Monthly       80.098315       249.0    No\n",
            "1         1002   34      Monthly       78.244550       244.0    No\n",
            "2         1003   20       Yearly       77.866411       258.0    No\n",
            "3         1004   40       Yearly       48.835839       209.0   Yes\n",
            "4         1005   20       Yearly       50.523438       189.0   Yes\n",
            "5         1006   29       Yearly       85.769658       236.0    No\n",
            "6         1007   26      Monthly       99.676976       192.0   Yes\n",
            "7         1008   57       Yearly       86.494732       228.0    No\n",
            "8         1009   44       Yearly       88.209826       273.0   Yes\n",
            "9         1010   57      Monthly       34.763259       265.0   Yes\n",
            "10        1011   24       Yearly       69.903701       124.0   Yes\n",
            "11        1012   29      Monthly       73.267113       271.0    No\n",
            "12        1013   36       Yearly       92.737217       248.0    No\n",
            "13        1014   25      Monthly       65.897347       247.0    No\n",
            "14        1015   58       Yearly       90.451840       118.0    No\n",
            "15        1016   40       Yearly       60.784846       286.0   Yes\n",
            "16        1017   46      Monthly       30.208506       248.0    No\n",
            "17        1018   55       Yearly       35.507559       157.0    No\n",
            "18        1019   23      Monthly             NaN         NaN    No\n",
            "19        1020   38       Yearly             NaN         NaN    No\n"
          ]
        }
      ],
      "source": [
        "import pandas as pd\n",
        "\n",
        "df=pd.read_csv('telecom_customer_churn_20.csv')\n",
        "print(df.head(20))"
      ]
    },
    {
      "cell_type": "code",
      "source": [
        "df.drop_duplicates(inplace=True)"
      ],
      "metadata": {
        "id": "W1dhRBB8OKfo"
      },
      "execution_count": 25,
      "outputs": []
    },
    {
      "cell_type": "code",
      "source": [
        "# Binning (Converting Continuous to Categorical Data)\n",
        "df[\"Age_Group\"] = pd.cut(df[\"Age\"], bins=[18, 21, 40, 60], labels=[\"Young\", \"Adult\", \"Senior\"])\n",
        "print(df)"
      ],
      "metadata": {
        "colab": {
          "base_uri": "https://localhost:8080/"
        },
        "id": "qjNbvqd7PoMg",
        "outputId": "85a9e2b9-7db4-4659-9ef8-f1664bbc3ebb"
      },
      "execution_count": 35,
      "outputs": [
        {
          "output_type": "stream",
          "name": "stdout",
          "text": [
            "    CustomerID  Age ContractType  MonthlyCharges  TotalCalls Churn Age_Group\n",
            "0         1001   35      Monthly       80.098315  249.000000    No     Adult\n",
            "1         1002   34      Monthly       78.244550  244.000000    No     Adult\n",
            "2         1003   20       Yearly       77.866411  258.000000    No     Young\n",
            "3         1004   40       Yearly       48.835839  209.000000   Yes     Adult\n",
            "4         1005   20       Yearly       50.523438  189.000000   Yes     Young\n",
            "5         1006   29       Yearly       85.769658  236.000000    No     Adult\n",
            "6         1007   26      Monthly       99.676976  192.000000   Yes     Adult\n",
            "7         1008   57       Yearly       86.494732  228.000000    No    Senior\n",
            "8         1009   44       Yearly       88.209826  273.000000   Yes    Senior\n",
            "9         1010   57      Monthly       34.763259  265.000000   Yes    Senior\n",
            "10        1011   24       Yearly       69.903701  124.000000   Yes     Adult\n",
            "11        1012   29      Monthly       73.267113  271.000000    No     Adult\n",
            "12        1013   36       Yearly       92.737217  248.000000    No     Adult\n",
            "13        1014   25      Monthly       65.897347  247.000000    No     Adult\n",
            "14        1015   58       Yearly       90.451840  118.000000    No    Senior\n",
            "15        1016   40       Yearly       60.784846  286.000000   Yes     Adult\n",
            "16        1017   46      Monthly       30.208506  248.000000    No    Senior\n",
            "17        1018   55       Yearly       35.507559  157.000000    No    Senior\n",
            "18        1019   23      Monthly       69.402285  224.555556    No     Adult\n",
            "19        1020   38       Yearly       69.402285  224.555556    No     Adult\n"
          ]
        }
      ]
    },
    {
      "cell_type": "code",
      "source": [
        "# Feature Engineering\n",
        "# Creating a new feature: Performance Category\n",
        "def performance_category(MonthlyCharges):\n",
        "    if MonthlyCharges>= 80:\n",
        "        return \"High\"\n",
        "    elif MonthlyCharges >= 70:\n",
        "        return \"Medium\"\n",
        "    else:\n",
        "        return \"Low\"\n",
        "\n",
        "df[\"Customer Loyalty Score\"] = df[\"MonthlyCharges\"].apply(performance_category)\n",
        "print(df)\n"
      ],
      "metadata": {
        "colab": {
          "base_uri": "https://localhost:8080/"
        },
        "id": "xgXdWbrAQccp",
        "outputId": "4794135a-47b6-4e69-cd9a-e603a720dc8c"
      },
      "execution_count": 43,
      "outputs": [
        {
          "output_type": "stream",
          "name": "stdout",
          "text": [
            "    CustomerID  Age ContractType  MonthlyCharges  TotalCalls Churn  \\\n",
            "0         1001   35      Monthly       80.098315       249.0    No   \n",
            "1         1002   34      Monthly       78.244550       244.0    No   \n",
            "2         1003   20       Yearly       77.866411       258.0    No   \n",
            "3         1004   40       Yearly       48.835839       209.0   Yes   \n",
            "4         1005   20       Yearly       50.523438       189.0   Yes   \n",
            "5         1006   29       Yearly       85.769658       236.0    No   \n",
            "6         1007   26      Monthly       99.676976       192.0   Yes   \n",
            "7         1008   57       Yearly       86.494732       228.0    No   \n",
            "8         1009   44       Yearly       88.209826       273.0   Yes   \n",
            "9         1010   57      Monthly       34.763259       265.0   Yes   \n",
            "10        1011   24       Yearly       69.903701       124.0   Yes   \n",
            "11        1012   29      Monthly       73.267113       271.0    No   \n",
            "12        1013   36       Yearly       92.737217       248.0    No   \n",
            "13        1014   25      Monthly       65.897347       247.0    No   \n",
            "14        1015   58       Yearly       90.451840       118.0    No   \n",
            "15        1016   40       Yearly       60.784846       286.0   Yes   \n",
            "16        1017   46      Monthly       30.208506       248.0    No   \n",
            "17        1018   55       Yearly       35.507559       157.0    No   \n",
            "18        1019   23      Monthly             NaN         NaN    No   \n",
            "19        1020   38       Yearly             NaN         NaN    No   \n",
            "\n",
            "   Customer Loyalty Score  \n",
            "0                    High  \n",
            "1                  Medium  \n",
            "2                  Medium  \n",
            "3                     Low  \n",
            "4                     Low  \n",
            "5                    High  \n",
            "6                    High  \n",
            "7                    High  \n",
            "8                    High  \n",
            "9                     Low  \n",
            "10                    Low  \n",
            "11                 Medium  \n",
            "12                   High  \n",
            "13                    Low  \n",
            "14                   High  \n",
            "15                    Low  \n",
            "16                    Low  \n",
            "17                    Low  \n",
            "18                    Low  \n",
            "19                    Low  \n"
          ]
        }
      ]
    },
    {
      "cell_type": "code",
      "source": [
        "# One-Hot Encoding\n",
        "df_encoded = pd.get_dummies(df, columns=[\"Churn\"], drop_first=True)\n",
        "print(df_encoded)"
      ],
      "metadata": {
        "colab": {
          "base_uri": "https://localhost:8080/"
        },
        "id": "PtLOGVrOQ7tp",
        "outputId": "a0c172f7-3543-467b-b436-1eb8e98234de"
      },
      "execution_count": 44,
      "outputs": [
        {
          "output_type": "stream",
          "name": "stdout",
          "text": [
            "    CustomerID  Age ContractType  MonthlyCharges  TotalCalls  \\\n",
            "0         1001   35      Monthly       80.098315       249.0   \n",
            "1         1002   34      Monthly       78.244550       244.0   \n",
            "2         1003   20       Yearly       77.866411       258.0   \n",
            "3         1004   40       Yearly       48.835839       209.0   \n",
            "4         1005   20       Yearly       50.523438       189.0   \n",
            "5         1006   29       Yearly       85.769658       236.0   \n",
            "6         1007   26      Monthly       99.676976       192.0   \n",
            "7         1008   57       Yearly       86.494732       228.0   \n",
            "8         1009   44       Yearly       88.209826       273.0   \n",
            "9         1010   57      Monthly       34.763259       265.0   \n",
            "10        1011   24       Yearly       69.903701       124.0   \n",
            "11        1012   29      Monthly       73.267113       271.0   \n",
            "12        1013   36       Yearly       92.737217       248.0   \n",
            "13        1014   25      Monthly       65.897347       247.0   \n",
            "14        1015   58       Yearly       90.451840       118.0   \n",
            "15        1016   40       Yearly       60.784846       286.0   \n",
            "16        1017   46      Monthly       30.208506       248.0   \n",
            "17        1018   55       Yearly       35.507559       157.0   \n",
            "18        1019   23      Monthly             NaN         NaN   \n",
            "19        1020   38       Yearly             NaN         NaN   \n",
            "\n",
            "   Customer Loyalty Score  Churn_Yes  \n",
            "0                    High      False  \n",
            "1                  Medium      False  \n",
            "2                  Medium      False  \n",
            "3                     Low       True  \n",
            "4                     Low       True  \n",
            "5                    High      False  \n",
            "6                    High       True  \n",
            "7                    High      False  \n",
            "8                    High       True  \n",
            "9                     Low       True  \n",
            "10                    Low       True  \n",
            "11                 Medium      False  \n",
            "12                   High      False  \n",
            "13                    Low      False  \n",
            "14                   High      False  \n",
            "15                    Low       True  \n",
            "16                    Low      False  \n",
            "17                    Low      False  \n",
            "18                    Low      False  \n",
            "19                    Low      False  \n"
          ]
        }
      ]
    },
    {
      "cell_type": "code",
      "source": [
        "from sklearn.preprocessing import StandardScaler, MinMaxScaler, LabelEncoder\n",
        "# Feature Scaling\n",
        "scaler = StandardScaler()\n",
        "df_scaled = df.copy()\n",
        "df_scaled[[\"MonthlyCharges\", \"TotalCalls\"]] = scaler.fit_transform(df[[\"MonthlyCharges\", \"TotalCalls\"]])\n",
        "print(df_scaled)\n"
      ],
      "metadata": {
        "colab": {
          "base_uri": "https://localhost:8080/"
        },
        "id": "z0ddrjn_RdYA",
        "outputId": "0f2daf6f-76a5-4a0b-c433-50c5b5509994"
      },
      "execution_count": 45,
      "outputs": [
        {
          "output_type": "stream",
          "name": "stdout",
          "text": [
            "    CustomerID  Age ContractType  MonthlyCharges  TotalCalls Churn  \\\n",
            "0         1001   35      Monthly        0.512242    0.503950    No   \n",
            "1         1002   34      Monthly        0.423464    0.400869    No   \n",
            "2         1003   20       Yearly        0.405354    0.689495    No   \n",
            "3         1004   40       Yearly       -0.984945   -0.320695   Yes   \n",
            "4         1005   20       Yearly       -0.904124   -0.733018   Yes   \n",
            "5         1006   29       Yearly        0.783848    0.235940    No   \n",
            "6         1007   26      Monthly        1.449881   -0.671170   Yes   \n",
            "7         1008   57       Yearly        0.818572    0.071011    No   \n",
            "8         1009   44       Yearly        0.900709    0.998737   Yes   \n",
            "9         1010   57      Monthly       -1.658893    0.833808   Yes   \n",
            "10        1011   24       Yearly        0.024013   -2.073067   Yes   \n",
            "11        1012   29      Monthly        0.185090    0.957505    No   \n",
            "12        1013   36       Yearly        1.117530    0.483334    No   \n",
            "13        1014   25      Monthly       -0.167855    0.462718    No   \n",
            "14        1015   58       Yearly        1.008081   -2.196764    No   \n",
            "15        1016   40       Yearly       -0.412697    1.266747   Yes   \n",
            "16        1017   46      Monthly       -1.877024    0.483334    No   \n",
            "17        1018   55       Yearly       -1.623248   -1.392735    No   \n",
            "18        1019   23      Monthly             NaN         NaN    No   \n",
            "19        1020   38       Yearly             NaN         NaN    No   \n",
            "\n",
            "   Customer Loyalty Score  \n",
            "0                    High  \n",
            "1                  Medium  \n",
            "2                  Medium  \n",
            "3                     Low  \n",
            "4                     Low  \n",
            "5                    High  \n",
            "6                    High  \n",
            "7                    High  \n",
            "8                    High  \n",
            "9                     Low  \n",
            "10                    Low  \n",
            "11                 Medium  \n",
            "12                   High  \n",
            "13                    Low  \n",
            "14                   High  \n",
            "15                    Low  \n",
            "16                    Low  \n",
            "17                    Low  \n",
            "18                    Low  \n",
            "19                    Low  \n"
          ]
        }
      ]
    }
  ]
}